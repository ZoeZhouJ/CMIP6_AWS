{
 "cells": [
  {
   "cell_type": "markdown",
   "id": "aae1c1c3-4114-444c-93b9-92b9b8e5ffbb",
   "metadata": {},
   "source": [
    "# Time Series Analysis\n",
    "### **Authors**\n",
    "\n",
    "Zoe Zhou \n",
    "\n",
    "### Objectives\n",
    "In this assignment, you will perform time series plotting for a region of your choice.\n",
    "\n",
    "### 1. Access data through Amazon Web Services cloud server\n",
    "- Locate monthly data for a historical simulation run with any two CMIP6 models \n",
    "- Variables to analyze: surface air temperature (tas) and sea surface temperature (tos)"
   ]
  },
  {
   "cell_type": "code",
   "execution_count": 1,
   "id": "f4c4ed79-b895-4e6f-9805-aaf5156d9cf0",
   "metadata": {
    "tags": []
   },
   "outputs": [],
   "source": [
    "# Import packages\n",
    "import xarray as xr\n",
    "import matplotlib.pyplot as plt\n",
    "import intake\n",
    "import s3fs"
   ]
  },
  {
   "cell_type": "markdown",
   "id": "7e7758a4-f00d-42b3-9a57-607ac7f17d06",
   "metadata": {},
   "source": [
    "- Search catalog for models for source_id, and ensemble member"
   ]
  },
  {
   "cell_type": "code",
   "execution_count": 4,
   "id": "6a7872ca-26c0-461b-8e3f-2287854ba2fe",
   "metadata": {
    "tags": []
   },
   "outputs": [
    {
     "name": "stdout",
     "output_type": "stream",
     "text": [
      "['GFDL-CM4' 'GFDL-ESM4' 'IPSL-CM6A-LR' 'GISS-E2-1-G' 'CNRM-CM6-1'\n",
      " 'BCC-CSM2-MR' 'BCC-ESM1' 'CNRM-ESM2-1' 'MIROC6' 'AWI-CM-1-1-MR'\n",
      " 'MRI-ESM2-0' 'CESM2-WACCM' 'CanESM5' 'CESM2' 'SAM0-UNICON' 'GISS-E2-1-H'\n",
      " 'UKESM1-0-LL' 'EC-Earth3' 'CanESM5-CanOE' 'INM-CM4-8' 'EC-Earth3-Veg'\n",
      " 'INM-CM5-0' 'HadGEM3-GC31-LL' 'MPI-ESM-1-2-HAM' 'NESM3' 'CAMS-CSM1-0'\n",
      " 'MPI-ESM1-2-LR' 'MPI-ESM1-2-HR' 'E3SM-1-0' 'MCM-UA-1-0' 'NorESM2-LM'\n",
      " 'GISS-E2-1-G-CC' 'FGOALS-g3' 'FGOALS-f3-L' 'MIROC-ES2L' 'KACE-1-0-G'\n",
      " 'NorCPM1' 'CNRM-CM6-1-HR' 'KIOST-ESM' 'NorESM2-MM' 'ACCESS-CM2'\n",
      " 'FIO-ESM-2-0' 'ACCESS-ESM1-5' 'CESM2-FV2' 'CESM2-WACCM-FV2' 'GISS-E2-2-H'\n",
      " 'E3SM-1-1' 'HadGEM3-GC31-MM' 'IITM-ESM' 'CIESM' 'E3SM-1-1-ECA'\n",
      " 'AWI-ESM-1-1-LR' 'EC-Earth3-Veg-LR' 'TaiESM1' 'CAS-ESM2-0' 'CMCC-CM2-SR5'\n",
      " 'EC-Earth3-AerChem' 'IPSL-CM5A2-INCA' 'CMCC-CM2-HR4' 'EC-Earth3P-VHR'\n",
      " 'EC-Earth3-CC' 'CMCC-ESM2' 'MIROC-ES2H' 'ICON-ESM-LR' 'IPSL-CM6A-LR-INCA']\n"
     ]
    }
   ],
   "source": [
    "# Search through catalog, find all historical simulations\n",
    "# (\"activity_id=CMIP\", \"experiment_id=historical\")\n",
    "res = catalog.search(activity_id=\"CMIP\", experiment_id=\"historical\")\n",
    "\n",
    "# Convert to a data frame\n",
    "res_df = res.df\n",
    "\n",
    "# Get unique model names in the set of search results\n",
    "models = res_df.source_id.unique()\n",
    "\n",
    "# Print list of model names\n",
    "print(models)"
   ]
  },
  {
   "cell_type": "markdown",
   "id": "ee1308a4-c9a9-48ce-87d2-12ea58c2eb25",
   "metadata": {},
   "source": [
    "- Choose CanESM5 and ACCESS-ESM1-5"
   ]
  },
  {
   "cell_type": "code",
   "execution_count": 7,
   "id": "22c73c2b-a113-4e42-82cc-b9c500937b64",
   "metadata": {
    "tags": []
   },
   "outputs": [
    {
     "name": "stdout",
     "output_type": "stream",
     "text": [
      "['r24i1p1f1' 'r25i1p1f1' 'r14i1p1f1' 'r2i1p1f1' 'r17i1p1f1' 'r10i1p1f1'\n",
      " 'r13i1p1f1' 'r7i1p1f1' 'r6i1p1f1' 'r5i1p1f1' 'r3i1p1f1' 'r22i1p1f1'\n",
      " 'r23i1p1f1' 'r8i1p1f1' 'r11i1p1f1' 'r12i1p1f1' 'r15i1p1f1' 'r19i1p1f1'\n",
      " 'r16i1p1f1' 'r1i1p1f1' 'r9i1p1f1' 'r18i1p1f1' 'r4i1p1f1' 'r21i1p1f1'\n",
      " 'r20i1p1f1' 'r11i1p2f1' 'r10i1p2f1' 'r7i1p2f1' 'r9i1p2f1' 'r8i1p2f1'\n",
      " 'r4i1p2f1' 'r40i1p2f1' 'r3i1p2f1' 'r6i1p2f1' 'r24i1p2f1' 'r13i1p2f1'\n",
      " 'r12i1p2f1' 'r5i1p2f1' 'r31i1p2f1' 'r30i1p2f1' 'r32i1p2f1' 'r29i1p2f1'\n",
      " 'r28i1p2f1' 'r2i1p2f1' 'r22i1p2f1' 'r23i1p2f1' 'r26i1p2f1' 'r27i1p2f1'\n",
      " 'r25i1p2f1' 'r37i1p2f1' 'r38i1p2f1' 'r39i1p2f1' 'r35i1p2f1' 'r34i1p2f1'\n",
      " 'r36i1p2f1' 'r33i1p2f1' 'r1i1p2f1' 'r18i1p2f1' 'r19i1p2f1' 'r14i1p2f1'\n",
      " 'r15i1p2f1' 'r17i1p2f1' 'r16i1p2f1' 'r21i1p2f1' 'r20i1p2f1']\n"
     ]
    }
   ],
   "source": [
    "# Search through catalog, find all historical simulations with CanESM5\n",
    "# (\"activity_id=CMIP\", \"experiment_id=historical\", \"source_id=CanESM5\")\n",
    "res = catalog.search(activity_id=\"CMIP\", experiment_id=\"historical\", source_id=\"CanESM5\")\n",
    "\n",
    "# Convert to a data frame\n",
    "res_df = res.df\n",
    "\n",
    "# Print all unique ensemble members (\"member_id\")\n",
    "members = res_df.member_id.unique()\n",
    "\n",
    "print(members)"
   ]
  },
  {
   "cell_type": "code",
   "execution_count": 21,
   "id": "d3ce865a-2b70-49be-b63b-94c3f055a113",
   "metadata": {
    "tags": []
   },
   "outputs": [
    {
     "name": "stdout",
     "output_type": "stream",
     "text": [
      "['r10i1p1f1']\n"
     ]
    }
   ],
   "source": [
    "# Search through catalog, find all historical simulations with ACCESS-ESM1-5\n",
    "res_ACCESS = catalog.search(activity_id=\"CMIP\", experiment_id=\"historical\", source_id=\"CNRM-CM6-1\")\n",
    "\n",
    "# Convert to a data frame\n",
    "res_ACCESS_df = res.df\n",
    "\n",
    "# Print all unique ensemble members (\"member_id\")\n",
    "members_ACCESS = res_ACCESS_df.member_id.unique()\n",
    "\n",
    "print(members_ACCESS)"
   ]
  },
  {
   "cell_type": "markdown",
   "id": "080e446e-5518-4755-94f2-0e4d1fa0961e",
   "metadata": {},
   "source": [
    "- Both models have historical simulations with member_id = r10i1p1f1"
   ]
  },
  {
   "cell_type": "markdown",
   "id": "fcba781a-9f3c-4f2a-8c83-b71a3c105f29",
   "metadata": {},
   "source": [
    "## CanESM5 model data"
   ]
  },
  {
   "cell_type": "code",
   "execution_count": 11,
   "id": "751c077d-9755-4b5e-92c2-4b76dbdee5d5",
   "metadata": {
    "tags": []
   },
   "outputs": [
    {
     "data": {
      "text/html": [
       "<div>\n",
       "<style scoped>\n",
       "    .dataframe tbody tr th:only-of-type {\n",
       "        vertical-align: middle;\n",
       "    }\n",
       "\n",
       "    .dataframe tbody tr th {\n",
       "        vertical-align: top;\n",
       "    }\n",
       "\n",
       "    .dataframe thead th {\n",
       "        text-align: right;\n",
       "    }\n",
       "</style>\n",
       "<table border=\"1\" class=\"dataframe\">\n",
       "  <thead>\n",
       "    <tr style=\"text-align: right;\">\n",
       "      <th></th>\n",
       "      <th>activity_id</th>\n",
       "      <th>institution_id</th>\n",
       "      <th>source_id</th>\n",
       "      <th>experiment_id</th>\n",
       "      <th>member_id</th>\n",
       "      <th>table_id</th>\n",
       "      <th>variable_id</th>\n",
       "      <th>grid_label</th>\n",
       "      <th>zstore</th>\n",
       "      <th>dcpp_init_year</th>\n",
       "      <th>version</th>\n",
       "    </tr>\n",
       "  </thead>\n",
       "  <tbody>\n",
       "    <tr>\n",
       "      <th>0</th>\n",
       "      <td>CMIP</td>\n",
       "      <td>CCCma</td>\n",
       "      <td>CanESM5</td>\n",
       "      <td>historical</td>\n",
       "      <td>r10i1p1f1</td>\n",
       "      <td>Amon</td>\n",
       "      <td>pr</td>\n",
       "      <td>gn</td>\n",
       "      <td>s3://cmip6-pds/CMIP6/CMIP/CCCma/CanESM5/histor...</td>\n",
       "      <td>NaN</td>\n",
       "      <td>20190429</td>\n",
       "    </tr>\n",
       "    <tr>\n",
       "      <th>1</th>\n",
       "      <td>CMIP</td>\n",
       "      <td>CCCma</td>\n",
       "      <td>CanESM5</td>\n",
       "      <td>historical</td>\n",
       "      <td>r10i1p1f1</td>\n",
       "      <td>Amon</td>\n",
       "      <td>tas</td>\n",
       "      <td>gn</td>\n",
       "      <td>s3://cmip6-pds/CMIP6/CMIP/CCCma/CanESM5/histor...</td>\n",
       "      <td>NaN</td>\n",
       "      <td>20190429</td>\n",
       "    </tr>\n",
       "    <tr>\n",
       "      <th>2</th>\n",
       "      <td>ScenarioMIP</td>\n",
       "      <td>CCCma</td>\n",
       "      <td>CanESM5</td>\n",
       "      <td>ssp370</td>\n",
       "      <td>r10i1p1f1</td>\n",
       "      <td>Amon</td>\n",
       "      <td>tas</td>\n",
       "      <td>gn</td>\n",
       "      <td>s3://cmip6-pds/CMIP6/ScenarioMIP/CCCma/CanESM5...</td>\n",
       "      <td>NaN</td>\n",
       "      <td>20190429</td>\n",
       "    </tr>\n",
       "    <tr>\n",
       "      <th>3</th>\n",
       "      <td>ScenarioMIP</td>\n",
       "      <td>CCCma</td>\n",
       "      <td>CanESM5</td>\n",
       "      <td>ssp370</td>\n",
       "      <td>r10i1p1f1</td>\n",
       "      <td>Amon</td>\n",
       "      <td>pr</td>\n",
       "      <td>gn</td>\n",
       "      <td>s3://cmip6-pds/CMIP6/ScenarioMIP/CCCma/CanESM5...</td>\n",
       "      <td>NaN</td>\n",
       "      <td>20190429</td>\n",
       "    </tr>\n",
       "    <tr>\n",
       "      <th>4</th>\n",
       "      <td>ScenarioMIP</td>\n",
       "      <td>CCCma</td>\n",
       "      <td>CanESM5</td>\n",
       "      <td>ssp126</td>\n",
       "      <td>r10i1p1f1</td>\n",
       "      <td>Amon</td>\n",
       "      <td>pr</td>\n",
       "      <td>gn</td>\n",
       "      <td>s3://cmip6-pds/CMIP6/ScenarioMIP/CCCma/CanESM5...</td>\n",
       "      <td>NaN</td>\n",
       "      <td>20190429</td>\n",
       "    </tr>\n",
       "    <tr>\n",
       "      <th>5</th>\n",
       "      <td>ScenarioMIP</td>\n",
       "      <td>CCCma</td>\n",
       "      <td>CanESM5</td>\n",
       "      <td>ssp126</td>\n",
       "      <td>r10i1p1f1</td>\n",
       "      <td>Amon</td>\n",
       "      <td>tas</td>\n",
       "      <td>gn</td>\n",
       "      <td>s3://cmip6-pds/CMIP6/ScenarioMIP/CCCma/CanESM5...</td>\n",
       "      <td>NaN</td>\n",
       "      <td>20190429</td>\n",
       "    </tr>\n",
       "  </tbody>\n",
       "</table>\n",
       "</div>"
      ],
      "text/plain": [
       "   activity_id institution_id source_id experiment_id  member_id table_id  \\\n",
       "0         CMIP          CCCma   CanESM5    historical  r10i1p1f1     Amon   \n",
       "1         CMIP          CCCma   CanESM5    historical  r10i1p1f1     Amon   \n",
       "2  ScenarioMIP          CCCma   CanESM5        ssp370  r10i1p1f1     Amon   \n",
       "3  ScenarioMIP          CCCma   CanESM5        ssp370  r10i1p1f1     Amon   \n",
       "4  ScenarioMIP          CCCma   CanESM5        ssp126  r10i1p1f1     Amon   \n",
       "5  ScenarioMIP          CCCma   CanESM5        ssp126  r10i1p1f1     Amon   \n",
       "\n",
       "  variable_id grid_label                                             zstore  \\\n",
       "0          pr         gn  s3://cmip6-pds/CMIP6/CMIP/CCCma/CanESM5/histor...   \n",
       "1         tas         gn  s3://cmip6-pds/CMIP6/CMIP/CCCma/CanESM5/histor...   \n",
       "2         tas         gn  s3://cmip6-pds/CMIP6/ScenarioMIP/CCCma/CanESM5...   \n",
       "3          pr         gn  s3://cmip6-pds/CMIP6/ScenarioMIP/CCCma/CanESM5...   \n",
       "4          pr         gn  s3://cmip6-pds/CMIP6/ScenarioMIP/CCCma/CanESM5...   \n",
       "5         tas         gn  s3://cmip6-pds/CMIP6/ScenarioMIP/CCCma/CanESM5...   \n",
       "\n",
       "   dcpp_init_year   version  \n",
       "0             NaN  20190429  \n",
       "1             NaN  20190429  \n",
       "2             NaN  20190429  \n",
       "3             NaN  20190429  \n",
       "4             NaN  20190429  \n",
       "5             NaN  20190429  "
      ]
     },
     "metadata": {},
     "output_type": "display_data"
    }
   ],
   "source": [
    "# Specify search terms to query catalog for CanESM5 data\n",
    "# activity_id: which project do you want? CMIP = historical data, ScenarioMIP = future projections\n",
    "activity_ids = ['ScenarioMIP', 'CMIP'] \n",
    "\n",
    "# source_id: which model do you want? \n",
    "source_id = ['CanESM5']\n",
    "\n",
    "# experiment_id: what experimental configuration do you want? Here we want historical and the four main SSPs\n",
    "experiment_ids = ['historical', 'ssp126', 'ssp370']\n",
    "\n",
    "# member_id: which ensemble member do you want? Here we want r10i1p1f1\n",
    "member_id = 'r10i1p1f1'\n",
    "\n",
    "# table_id: which part of the Earth system and time resolution do you want? Here we want monthly atmosphere data\n",
    "table_id = 'Amon' \n",
    "\n",
    "# variable_id: which climate variable do you want? Here we want surface air temperature\n",
    "variable_id = ['tas', 'pr'] \n",
    "\n",
    "\n",
    "# Open the CMIP6 data catalog, store as a variable\n",
    "catalog = intake.open_esm_datastore('https://cmip6-pds.s3.amazonaws.com/pangeo-cmip6.json')\n",
    "\n",
    "# Search through catalog, store results in \"res\" variable\n",
    "CanESM5_res = catalog.search(activity_id=activity_ids, source_id=source_id, experiment_id=experiment_ids, \n",
    "                     member_id=member_id, table_id=table_id, variable_id=variable_id)\n",
    "\n",
    "# Display data frame associated with results\n",
    "display(CanESM5_res.df)"
   ]
  },
  {
   "cell_type": "markdown",
   "id": "ff4471aa-a908-4703-a9bd-9ec4e4dcef95",
   "metadata": {},
   "source": [
    "2. Read in data and store as an xarray object\n",
    "Load in data from the historical simulation, as well as corresponding future projection information for two different future emissions scenarios, for each model."
   ]
  },
  {
   "cell_type": "code",
   "execution_count": 12,
   "id": "59fd40e9-d458-4168-b10e-a9da2afd3e7f",
   "metadata": {
    "tags": []
   },
   "outputs": [],
   "source": [
    "# Read in just the historical data file\n",
    "can_pr_hist_data = xr.open_zarr(CanESM5_res.df['zstore'][0], storage_options={'anon': True})\n",
    "# Get data for SSP126\n",
    "can_pr_ssp126_data = xr.open_zarr(CanESM5_res.df['zstore'][4], storage_options={'anon': True})\n",
    "# Get data for SSP370\n",
    "can_pr_ssp370_data = xr.open_zarr(CanESM5_res.df['zstore'][3], storage_options={'anon': True})\n",
    "\n",
    "# Read in just the historical data file\n",
    "can_tas_hist_data = xr.open_zarr(CanESM5_res.df['zstore'][1], storage_options={'anon': True})\n",
    "# Get data for SSP126\n",
    "can_tas_ssp126_data = xr.open_zarr(CanESM5_res.df['zstore'][5], storage_options={'anon': True})\n",
    "# Get data for SSP370\n",
    "can_tas_ssp370_data = xr.open_zarr(CanESM5_res.df['zstore'][2], storage_options={'anon': True})"
   ]
  },
  {
   "cell_type": "markdown",
   "id": "2946682d-e673-4e73-a269-d3e25070024c",
   "metadata": {},
   "source": [
    "## ACCESS-ESM1-5 Model Data"
   ]
  },
  {
   "cell_type": "code",
   "execution_count": 22,
   "id": "025e410f-3417-4464-8c48-699cc472d76c",
   "metadata": {
    "tags": []
   },
   "outputs": [
    {
     "data": {
      "text/html": [
       "<div>\n",
       "<style scoped>\n",
       "    .dataframe tbody tr th:only-of-type {\n",
       "        vertical-align: middle;\n",
       "    }\n",
       "\n",
       "    .dataframe tbody tr th {\n",
       "        vertical-align: top;\n",
       "    }\n",
       "\n",
       "    .dataframe thead th {\n",
       "        text-align: right;\n",
       "    }\n",
       "</style>\n",
       "<table border=\"1\" class=\"dataframe\">\n",
       "  <thead>\n",
       "    <tr style=\"text-align: right;\">\n",
       "      <th></th>\n",
       "      <th>activity_id</th>\n",
       "      <th>institution_id</th>\n",
       "      <th>source_id</th>\n",
       "      <th>experiment_id</th>\n",
       "      <th>member_id</th>\n",
       "      <th>table_id</th>\n",
       "      <th>variable_id</th>\n",
       "      <th>grid_label</th>\n",
       "      <th>zstore</th>\n",
       "      <th>dcpp_init_year</th>\n",
       "      <th>version</th>\n",
       "    </tr>\n",
       "  </thead>\n",
       "  <tbody>\n",
       "  </tbody>\n",
       "</table>\n",
       "</div>"
      ],
      "text/plain": [
       "Empty DataFrame\n",
       "Columns: [activity_id, institution_id, source_id, experiment_id, member_id, table_id, variable_id, grid_label, zstore, dcpp_init_year, version]\n",
       "Index: []"
      ]
     },
     "metadata": {},
     "output_type": "display_data"
    }
   ],
   "source": [
    "# Specify search terms to query catalog for CanESM5 data\n",
    "# activity_id: which project do you want? CMIP = historical data, ScenarioMIP = future projections\n",
    "activity_ids = ['ScenarioMIP', 'CMIP'] \n",
    "\n",
    "# source_id: which model do you want? \n",
    "source_id = ['CNRM-CM6-1']\n",
    "\n",
    "# experiment_id: what experimental configuration do you want? Here we want historical and the four main SSPs\n",
    "experiment_ids = ['historical', 'ssp126', 'ssp370']\n",
    "\n",
    "# member_id: which ensemble member do you want? Here we want r10i1p1f1\n",
    "member_id = 'r10i1p1f1'\n",
    "\n",
    "# table_id: which part of the Earth system and time resolution do you want? Here we want monthly atmosphere data\n",
    "table_id = 'Amon' \n",
    "\n",
    "# variable_id: which climate variable do you want? Here we want surface air temperature\n",
    "variable_id = ['tas', 'pr'] \n",
    "\n",
    "\n",
    "# Open the CMIP6 data catalog, store as a variable\n",
    "catalog = intake.open_esm_datastore('https://cmip6-pds.s3.amazonaws.com/pangeo-cmip6.json')\n",
    "\n",
    "# Search through catalog, store results in \"res\" variable\n",
    "ACCESS_res = catalog.search(activity_id=activity_ids, source_id=source_id, experiment_id=experiment_ids, \n",
    "                     member_id=member_id, table_id=table_id, variable_id=variable_id)\n",
    "\n",
    "# Display data frame associated with results\n",
    "display(ACCESS_res.df)"
   ]
  },
  {
   "cell_type": "markdown",
   "id": "5908f3f3-058f-4f26-adc5-a92523f9d2cd",
   "metadata": {},
   "source": [
    "2. Read in data and store as an xarray object\n",
    "Load in data from the historical simulation, as well as corresponding future projection information for two different future emissions scenarios, for each model.\n"
   ]
  },
  {
   "cell_type": "code",
   "execution_count": null,
   "id": "918e8c95-65ca-4add-b19f-6cd664af8a54",
   "metadata": {},
   "outputs": [],
   "source": [
    "# Read in just the historical data file\n",
    "can_pr_hist_data = xr.open_zarr(CanESM5_res.df['zstore'][0], storage_options={'anon': True})\n",
    "# Get data for SSP126\n",
    "can_pr_ssp126_data = xr.open_zarr(CanESM5_res.df['zstore'][4], storage_options={'anon': True})\n",
    "# Get data for SSP370\n",
    "can_pr_ssp370_data = xr.open_zarr(CanESM5_res.df['zstore'][3], storage_options={'anon': True})\n",
    "\n",
    "# Read in just the historical data file\n",
    "can_tas_hist_data = xr.open_zarr(CanESM5_res.df['zstore'][1], storage_options={'anon': True})\n",
    "# Get data for SSP126\n",
    "can_tas_ssp126_data = xr.open_zarr(CanESM5_res.df['zstore'][5], storage_options={'anon': True})\n",
    "# Get data for SSP370\n",
    "can_tas_ssp370_data = xr.open_zarr(CanESM5_res.df['zstore'][2], storage_options={'anon': True})"
   ]
  }
 ],
 "metadata": {
  "kernelspec": {
   "display_name": "Anaconda 3 (EDS 296)",
   "language": "python",
   "name": "eds296-stevenson"
  },
  "language_info": {
   "codemirror_mode": {
    "name": "ipython",
    "version": 3
   },
   "file_extension": ".py",
   "mimetype": "text/x-python",
   "name": "python",
   "nbconvert_exporter": "python",
   "pygments_lexer": "ipython3",
   "version": "3.8.18"
  }
 },
 "nbformat": 4,
 "nbformat_minor": 5
}
