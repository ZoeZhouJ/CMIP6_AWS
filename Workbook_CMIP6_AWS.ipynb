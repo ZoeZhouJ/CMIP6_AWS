{
 "cells": [
  {
   "cell_type": "markdown",
   "id": "ec3c1000-bf4d-47b4-a85d-4ddfa3648f38",
   "metadata": {},
   "source": [
    "# Workbook for Accessing CMIP6 Data via Amazon Web Services\n",
    "### Authors\n",
    "\n",
    "Samantha Stevenson sstevenson@ucsb.edu\n",
    "\n",
    "### Table of Contents\n",
    "\n",
    "[Goals](#purpose)\n",
    "\n",
    "[Import Packages](#import)\n",
    "\n",
    "[Read in Data](#data_io)\n",
    "\n",
    "[Plot a Time Series](#time_series)"
   ]
  },
  {
   "cell_type": "markdown",
   "id": "f1e946b0-7253-4565-a2d5-929d9c59e7a3",
   "metadata": {},
   "source": [
    "<a id='purpose'></a> \n",
    "# Goals\n",
    "\n",
    "This is the companion \"workbook\" for the tutorials in the \"CMIP6 AWS\" Climate DataLab repository. It does not contain any code! You can use this as a space to create your own workflow, based on the steps in the tutorials. We have provided an overall structure for the workflow, but you are encouraged to customize your code using snippets from the tutorials in this or other repositories as you like.\n",
    "\n",
    "Happy coding!"
   ]
  },
  {
   "cell_type": "markdown",
   "id": "0783b6cd-9cd2-48fb-815b-b20e27177c8b",
   "metadata": {},
   "source": [
    "<a id='import'></a> \n",
    "# Import Packages\n",
    "\n",
    "Import all packages necessary for this tutorial: the main ones you'll need are matplotlib, xarray, intake, and s3fs. \n",
    "\n",
    "_Note: make sure you've installed the intake-esm plugin for the intake package, or that you're working on a server where this was done for you!_"
   ]
  },
  {
   "cell_type": "code",
   "execution_count": null,
   "id": "53d79e13-723e-484f-af04-5e7006502bfc",
   "metadata": {},
   "outputs": [],
   "source": [
    "# Import necessary packages\n"
   ]
  },
  {
   "cell_type": "markdown",
   "id": "583b04c4-ca1c-46de-8eac-28413b423b38",
   "metadata": {},
   "source": [
    "<a id='data_io'></a> \n",
    "# Read in Data\n",
    "\n",
    "Now use the steps laid out in the [Accessing CMIP6 Data via AWS](https://github.com/climate-datalab/CMIP6_AWS/blob/main/CMIP6_timeseries_map.ipynb) tutorial to load your data using intake!"
   ]
  },
  {
   "cell_type": "code",
   "execution_count": null,
   "id": "cabc9cbc-c527-4329-8909-f0df26cc864e",
   "metadata": {},
   "outputs": [],
   "source": [
    "# Open the CMIP6 data catalog, store as a variable\n"
   ]
  },
  {
   "cell_type": "markdown",
   "id": "61e749c4-bd8b-4295-8e77-ba64572db6ed",
   "metadata": {},
   "source": [
    "Once the data is loaded, you can query it by setting the appropriate search terms, listed in the comments in the below code block."
   ]
  },
  {
   "cell_type": "code",
   "execution_count": null,
   "id": "2f6fd2c7-0af4-4a8f-bf57-ca141e3fb094",
   "metadata": {},
   "outputs": [],
   "source": [
    "\n",
    "# Specify search terms to query catalog for CanESM5 data\n",
    "# activity_id: which project do you want? CMIP = historical data, ScenarioMIP = future projections\n",
    "\n",
    "# source_id: which model do you want? \n",
    "\n",
    "# experiment_id: what experimental configuration do you want? Here we want historical and the four main SSPs\n",
    "\n",
    "# member_id: which ensemble member do you want? Here we want r10i1p1f1\n",
    "\n",
    "# table_id: which part of the Earth system and time resolution do you want? Here we want monthly atmosphere data\n",
    "\n",
    "# variable_id: which climate variable do you want? Here we want surface air temperature\n"
   ]
  },
  {
   "cell_type": "code",
   "execution_count": null,
   "id": "7814caae-a98f-4603-a9b6-289dd2be5124",
   "metadata": {},
   "outputs": [],
   "source": [
    "# Search through catalog, store results in \"res\" variable\n",
    "\n",
    "# Display data frame associated with results\n",
    "\n",
    "# Extract data for the historical period, store as a separate xarray Dataset\n",
    "\n",
    "# Extract data for an SSP "
   ]
  },
  {
   "cell_type": "markdown",
   "id": "81daa20e-8cbf-4cb9-a203-a9622d7565d1",
   "metadata": {},
   "source": [
    "<a id='time_series'></a> \n",
    "## **Plot a Time Series**\n",
    "\n",
    "Once the data have been loaded in, you can use it to generate a time series, following the exact same steps used in previous tutorials!"
   ]
  },
  {
   "cell_type": "code",
   "execution_count": null,
   "id": "6b70fd5c-5628-4c25-bbbc-6bcaec36a8e9",
   "metadata": {},
   "outputs": [],
   "source": [
    "# Concatenate historical and future projection data\n",
    "\n",
    "# Convert time to datetime64 format\n"
   ]
  },
  {
   "cell_type": "code",
   "execution_count": null,
   "id": "60dd7e36-4361-4faa-90fc-c0b5f98a019a",
   "metadata": {},
   "outputs": [],
   "source": [
    "# Define min/max bounds for region of interest \n",
    "\n",
    "\n",
    "# Define logical mask: True when lat/lon inside the valid ranges, False elsewhere\n",
    "\n",
    "# Find points where the mask value is True, drop all other points\n",
    "\n",
    "# Average over lat, lon dimensions to get a time series\n"
   ]
  },
  {
   "cell_type": "code",
   "execution_count": null,
   "id": "79c3f378-1356-49c8-8745-9d89a7db3da4",
   "metadata": {},
   "outputs": [],
   "source": [
    "# Plot the resulting time series"
   ]
  }
 ],
 "metadata": {
  "kernelspec": {
   "display_name": "Python 3 (ipykernel)",
   "language": "python",
   "name": "python3"
  },
  "language_info": {
   "codemirror_mode": {
    "name": "ipython",
    "version": 3
   },
   "file_extension": ".py",
   "mimetype": "text/x-python",
   "name": "python",
   "nbconvert_exporter": "python",
   "pygments_lexer": "ipython3",
   "version": "3.8.13"
  }
 },
 "nbformat": 4,
 "nbformat_minor": 5
}
